{
 "cells": [
  {
   "cell_type": "code",
   "execution_count": 1,
   "id": "5dc4fcb0",
   "metadata": {},
   "outputs": [],
   "source": [
    "api_key_for_youtube_playlist='<your_api_key>'"
   ]
  },
  {
   "cell_type": "code",
   "execution_count": 68,
   "id": "99bcdb0d",
   "metadata": {},
   "outputs": [],
   "source": [
    "#Build the service object\n",
    "#refer to https://github.com/googleapis/google-api-python-client/blob/main/docs/start.md for details\n",
    "from googleapiclient.discovery import build\n",
    "import re\n",
    "from datetime import timedelta"
   ]
  },
  {
   "cell_type": "code",
   "execution_count": 36,
   "id": "2dfc0bff",
   "metadata": {},
   "outputs": [
    {
     "name": "stdout",
     "output_type": "stream",
     "text": [
      "{'kind': 'youtube#channelListResponse', 'etag': 'RuuXzTIr0OoDqI4S0RU6n4FqKEM', 'pageInfo': {'totalResults': 0, 'resultsPerPage': 5}}\n"
     ]
    }
   ],
   "source": [
    "#getting the channelid\n",
    "#https://developers.google.com/youtube/v3/docs/channels/list\n",
    "youtube=build('youtube','v3',developerKey=api_key_for_youtube_playlist)\n",
    "request=youtube.channels().list(part='statistics,contentDetails'\n",
    "                                ,forUsername='Coreyms')\n",
    "response=request.execute()\n",
    "print(response)\n"
   ]
  },
  {
   "cell_type": "code",
   "execution_count": 46,
   "id": "edf15725",
   "metadata": {},
   "outputs": [
    {
     "name": "stdout",
     "output_type": "stream",
     "text": [
      "{'kind': 'youtube#playlistListResponse', 'etag': 'YtjYplOkLFhZ1yS3zficUQC47-g', 'nextPageToken': 'CAUQAA', 'pageInfo': {'totalResults': 69, 'resultsPerPage': 5}, 'items': [{'kind': 'youtube#playlist', 'etag': 'mP0iL6h5GTK8UvX6I00wrEE-wbM', 'id': 'PLZoTAELRMXVO7HmmSCuP_RGBX1l84Rt1_', 'snippet': {'publishedAt': '2021-10-11T16:22:06Z', 'channelId': 'UCNU_lfiiWBdtULKOw6X0Dig', 'title': 'Blockchain', 'description': '', 'thumbnails': {'default': {'url': 'https://i.ytimg.com/vi/0JuRzN6T70I/default.jpg', 'width': 120, 'height': 90}, 'medium': {'url': 'https://i.ytimg.com/vi/0JuRzN6T70I/mqdefault.jpg', 'width': 320, 'height': 180}, 'high': {'url': 'https://i.ytimg.com/vi/0JuRzN6T70I/hqdefault.jpg', 'width': 480, 'height': 360}, 'standard': {'url': 'https://i.ytimg.com/vi/0JuRzN6T70I/sddefault.jpg', 'width': 640, 'height': 480}, 'maxres': {'url': 'https://i.ytimg.com/vi/0JuRzN6T70I/maxresdefault.jpg', 'width': 1280, 'height': 720}}, 'channelTitle': 'Krish Naik', 'localized': {'title': 'Blockchain', 'description': ''}}, 'contentDetails': {'itemCount': 3}}, {'kind': 'youtube#playlist', 'etag': '5KaoNnNflNH70G5l8mjsnSt42Yk', 'id': 'PLZoTAELRMXVNi2F92wWIfb0ElJoi10q-2', 'snippet': {'publishedAt': '2021-09-05T13:52:50Z', 'channelId': 'UCNU_lfiiWBdtULKOw6X0Dig', 'title': 'Build Android App Using ML kit and tensorflow lite', 'description': '', 'thumbnails': {'default': {'url': 'https://i.ytimg.com/vi/YjpxIzvFfpI/default.jpg', 'width': 120, 'height': 90}, 'medium': {'url': 'https://i.ytimg.com/vi/YjpxIzvFfpI/mqdefault.jpg', 'width': 320, 'height': 180}, 'high': {'url': 'https://i.ytimg.com/vi/YjpxIzvFfpI/hqdefault.jpg', 'width': 480, 'height': 360}, 'standard': {'url': 'https://i.ytimg.com/vi/YjpxIzvFfpI/sddefault.jpg', 'width': 640, 'height': 480}, 'maxres': {'url': 'https://i.ytimg.com/vi/YjpxIzvFfpI/maxresdefault.jpg', 'width': 1280, 'height': 720}}, 'channelTitle': 'Krish Naik', 'localized': {'title': 'Build Android App Using ML kit and tensorflow lite', 'description': ''}}, 'contentDetails': {'itemCount': 5}}, {'kind': 'youtube#playlist', 'etag': 'B7NaSsdp2J5js9Fonkk8d3INcyU', 'id': 'PLZoTAELRMXVMqIy62erko74zc9q6671rU', 'snippet': {'publishedAt': '2021-08-28T14:03:47Z', 'channelId': 'UCNU_lfiiWBdtULKOw6X0Dig', 'title': 'Reviewing Resumes', 'description': '', 'thumbnails': {'default': {'url': 'https://i.ytimg.com/vi/cx00fY7fgqI/default.jpg', 'width': 120, 'height': 90}, 'medium': {'url': 'https://i.ytimg.com/vi/cx00fY7fgqI/mqdefault.jpg', 'width': 320, 'height': 180}, 'high': {'url': 'https://i.ytimg.com/vi/cx00fY7fgqI/hqdefault.jpg', 'width': 480, 'height': 360}}, 'channelTitle': 'Krish Naik', 'localized': {'title': 'Reviewing Resumes', 'description': ''}}, 'contentDetails': {'itemCount': 15}}, {'kind': 'youtube#playlist', 'etag': '1myzc4FjUDYr_1Pfbzin3REAipk', 'id': 'PLZoTAELRMXVMbpd_KBoOY_ecwMsDy92gS', 'snippet': {'publishedAt': '2021-08-14T07:52:48Z', 'channelId': 'UCNU_lfiiWBdtULKOw6X0Dig', 'title': 'Interview Questions Playlist', 'description': '', 'thumbnails': {'default': {'url': 'https://i.ytimg.com/vi/Vo2zPqyFr6c/default.jpg', 'width': 120, 'height': 90}, 'medium': {'url': 'https://i.ytimg.com/vi/Vo2zPqyFr6c/mqdefault.jpg', 'width': 320, 'height': 180}, 'high': {'url': 'https://i.ytimg.com/vi/Vo2zPqyFr6c/hqdefault.jpg', 'width': 480, 'height': 360}, 'standard': {'url': 'https://i.ytimg.com/vi/Vo2zPqyFr6c/sddefault.jpg', 'width': 640, 'height': 480}, 'maxres': {'url': 'https://i.ytimg.com/vi/Vo2zPqyFr6c/maxresdefault.jpg', 'width': 1280, 'height': 720}}, 'channelTitle': 'Krish Naik', 'localized': {'title': 'Interview Questions Playlist', 'description': ''}}, 'contentDetails': {'itemCount': 5}}, {'kind': 'youtube#playlist', 'etag': 'vv-wQfDRCG82r6HCAkuKMrscMNU', 'id': 'PLZoTAELRMXVOgW0QRUt0LyqkQI7lhN-4s', 'snippet': {'publishedAt': '2021-07-12T12:53:54Z', 'channelId': 'UCNU_lfiiWBdtULKOw6X0Dig', 'title': 'SQL interview Playlist', 'description': '', 'thumbnails': {'default': {'url': 'https://i.ytimg.com/vi/94tGeXNq9TY/default.jpg', 'width': 120, 'height': 90}, 'medium': {'url': 'https://i.ytimg.com/vi/94tGeXNq9TY/mqdefault.jpg', 'width': 320, 'height': 180}, 'high': {'url': 'https://i.ytimg.com/vi/94tGeXNq9TY/hqdefault.jpg', 'width': 480, 'height': 360}, 'standard': {'url': 'https://i.ytimg.com/vi/94tGeXNq9TY/sddefault.jpg', 'width': 640, 'height': 480}}, 'channelTitle': 'Krish Naik', 'localized': {'title': 'SQL interview Playlist', 'description': ''}}, 'contentDetails': {'itemCount': 2}}]}\n"
     ]
    }
   ],
   "source": [
    "#getting the playlists in channelid\n",
    "#https://developers.google.com/youtube/v3/docs/playlists/list\n",
    "pl_request=youtube.playlists().list(part='snippet,contentDetails'\n",
    "                                ,channelId='UCNU_lfiiWBdtULKOw6X0Dig')\n",
    "pl_response=pl_request.execute()\n",
    "print(pl_response)"
   ]
  },
  {
   "cell_type": "code",
   "execution_count": 47,
   "id": "cd58802b",
   "metadata": {},
   "outputs": [
    {
     "name": "stdout",
     "output_type": "stream",
     "text": [
      "{'kind': 'youtube#playlistItemListResponse', 'etag': 'nJdK1_K6hNOGa1eJ3uRcA4DHgZc', 'items': [{'kind': 'youtube#playlistItem', 'etag': 'K9vOlfDmPF02-UJqq_71-rg-Dss', 'id': 'UExab1RBRUxSTVhWT2dXMFFSVXQwTHlxa1FJN2xoTi00cy41NkI0NEY2RDEwNTU3Q0M2', 'contentDetails': {'videoId': '94tGeXNq9TY', 'videoPublishedAt': '2021-07-12T12:56:44Z'}}, {'kind': 'youtube#playlistItem', 'etag': 'ANgZ4OTLD8HQDu5PvR7xCe9UKsY', 'id': 'UExab1RBRUxSTVhWT2dXMFFSVXQwTHlxa1FJN2xoTi00cy4yODlGNEE0NkRGMEEzMEQy', 'contentDetails': {'videoId': 'xjMershbw1k', 'videoPublishedAt': '2021-06-25T04:45:13Z'}}], 'pageInfo': {'totalResults': 2, 'resultsPerPage': 5}}\n"
     ]
    }
   ],
   "source": [
    "#getting details of a particular playlist\n",
    "plid_request=youtube.playlistItems().list(part='contentDetails'\n",
    "                                ,playlistId='PLZoTAELRMXVOgW0QRUt0LyqkQI7lhN-4s')\n",
    "plid_response=plid_request.execute()\n",
    "print(plid_response)"
   ]
  },
  {
   "cell_type": "code",
   "execution_count": 49,
   "id": "1f317a32",
   "metadata": {},
   "outputs": [],
   "source": [
    "vid_ids=[]\n",
    "for item in plid_response['items']:\n",
    "    vid_ids.append(item['contentDetails']['videoId'])"
   ]
  },
  {
   "cell_type": "code",
   "execution_count": 54,
   "id": "69d09c1f",
   "metadata": {},
   "outputs": [
    {
     "name": "stdout",
     "output_type": "stream",
     "text": [
      "{'kind': 'youtube#videoListResponse', 'etag': 'vxmv0GgclSuoawSd1EjQ_pH2pYk', 'items': [{'kind': 'youtube#video', 'etag': 'OUTywmiIQbkUzE-KZfSgaDmBsQc', 'id': '94tGeXNq9TY', 'contentDetails': {'duration': 'PT25M30S', 'dimension': '2d', 'definition': 'hd', 'caption': 'false', 'licensedContent': True, 'contentRating': {}, 'projection': 'rectangular'}}, {'kind': 'youtube#video', 'etag': 'HMLB9oKRDjrxFhm0ItS3T_zSabs', 'id': 'xjMershbw1k', 'contentDetails': {'duration': 'PT31M22S', 'dimension': '2d', 'definition': 'hd', 'caption': 'false', 'licensedContent': True, 'contentRating': {}, 'projection': 'rectangular'}}], 'pageInfo': {'totalResults': 2, 'resultsPerPage': 2}}\n"
     ]
    }
   ],
   "source": [
    "vid_request=youtube.videos().list(part='contentDetails',\n",
    "                                 id =','.join(vid_ids)\n",
    "                                 )\n",
    "vid_response=vid_request.execute()\n",
    "print(vid_response)"
   ]
  },
  {
   "cell_type": "code",
   "execution_count": 59,
   "id": "f88e87fc",
   "metadata": {},
   "outputs": [
    {
     "name": "stdout",
     "output_type": "stream",
     "text": [
      "PT25M30S\n",
      "\n",
      "PT31M22S\n",
      "\n"
     ]
    }
   ],
   "source": [
    "for item in vid_response['items']:\n",
    "    duration=item['contentDetails']['duration']\n",
    "    print(duration)\n",
    "    print()"
   ]
  },
  {
   "cell_type": "code",
   "execution_count": 62,
   "id": "914ef1b6",
   "metadata": {},
   "outputs": [],
   "source": []
  },
  {
   "cell_type": "code",
   "execution_count": 75,
   "id": "ba862496",
   "metadata": {},
   "outputs": [
    {
     "name": "stdout",
     "output_type": "stream",
     "text": [
      "1525.0\n",
      "1891.0\n"
     ]
    }
   ],
   "source": [
    "for item in vid_response['items']:\n",
    "    duration=item['contentDetails']['duration']\n",
    "    hours=hours_patterns.search(duration)\n",
    "    minutes=minute_patterns.search(duration)\n",
    "    seconds=minute_patterns.search(duration)\n",
    "    \n",
    "    hours=int(hours.group(1)) if hours else 0\n",
    "    minutes=int(minutes.group(1)) if minutes else 0\n",
    "    seconds=int(seconds.group(1)) if seconds else 0\n",
    "    \n",
    "    video_seconds=timedelta(hours=hours,minutes=minutes,seconds=seconds).total_seconds()\n",
    "    \n",
    "    print(video_seconds)\n",
    "   "
   ]
  },
  {
   "cell_type": "code",
   "execution_count": 81,
   "id": "e56290a8",
   "metadata": {},
   "outputs": [
    {
     "name": "stdout",
     "output_type": "stream",
     "text": [
      "Total run time of the play_list is 5:19:14\n"
     ]
    }
   ],
   "source": [
    "#main_code\n",
    "\n",
    "total_seconds=0\n",
    "\n",
    "nextPageToken=None\n",
    "hours_patterns=re.compile(r\"(\\d+)H\")\n",
    "minute_patterns=re.compile(r\"(\\d+)M\")\n",
    "second_patterns=re.compile(r\"(\\d+)S\")\n",
    "\n",
    "while True:\n",
    "    plid_request=youtube.playlistItems().list(part='contentDetails'\n",
    "                                ,playlistId='PL-osiE80TeTsWmV9i9c58mdDCSskIFdDS'\n",
    "                                ,maxResults=50\n",
    "                                ,pageToken=nextPageToken)\n",
    "    plid_response=plid_request.execute()\n",
    "  \n",
    "    vid_ids=[]\n",
    "    for item in plid_response['items']:\n",
    "        vid_ids.append(item['contentDetails']['videoId'])\n",
    "        \n",
    "    vid_request=youtube.videos().list(part='contentDetails',id =','.join(vid_ids))\n",
    "    vid_response=vid_request.execute()\n",
    "    \n",
    "    for item in vid_response['items']:\n",
    "        duration=item['contentDetails']['duration']\n",
    "        \n",
    "        hours=hours_patterns.search(duration)\n",
    "        minutes=minute_patterns.search(duration)\n",
    "        seconds=minute_patterns.search(duration)\n",
    "        \n",
    "        hours=int(hours.group(1)) if hours else 0\n",
    "        minutes=int(minutes.group(1)) if minutes else 0\n",
    "        seconds=int(seconds.group(1)) if seconds else 0\n",
    "\n",
    "        video_seconds=timedelta(hours=hours,minutes=minutes,seconds=seconds).total_seconds()\n",
    "        \n",
    "        total_seconds=total_seconds+video_seconds\n",
    "        \n",
    "    \n",
    "    nextPageToken=plid_response.get('nextPageToken')\n",
    "    if not nextPageToken:\n",
    "        break\n",
    "        \n",
    "total_seconds=int(total_seconds)\n",
    "minutes,seconds=divmod(total_seconds,60)\n",
    "hours,minutes=divmod(minutes,60)\n",
    "\n",
    "print(f'Total run time of the play_list is {hours}:{minutes}:{seconds}')"
   ]
  },
  {
   "cell_type": "code",
   "execution_count": null,
   "id": "dff0b7ad",
   "metadata": {},
   "outputs": [],
   "source": []
  },
  {
   "cell_type": "code",
   "execution_count": null,
   "id": "c7aea03d",
   "metadata": {},
   "outputs": [],
   "source": []
  }
 ],
 "metadata": {
  "kernelspec": {
   "display_name": "Python 3 (ipykernel)",
   "language": "python",
   "name": "python3"
  },
  "language_info": {
   "codemirror_mode": {
    "name": "ipython",
    "version": 3
   },
   "file_extension": ".py",
   "mimetype": "text/x-python",
   "name": "python",
   "nbconvert_exporter": "python",
   "pygments_lexer": "ipython3",
   "version": "3.8.12"
  }
 },
 "nbformat": 4,
 "nbformat_minor": 5
}
