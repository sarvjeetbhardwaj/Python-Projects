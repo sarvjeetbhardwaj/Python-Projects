{
 "cells": [
  {
   "cell_type": "code",
   "execution_count": 325,
   "id": "8cef4ec7",
   "metadata": {},
   "outputs": [],
   "source": [
    "import random "
   ]
  },
  {
   "cell_type": "code",
   "execution_count": 326,
   "id": "b8dc0ae4",
   "metadata": {},
   "outputs": [
    {
     "name": "stdout",
     "output_type": "stream",
     "text": [
      "arushi\n"
     ]
    }
   ],
   "source": [
    "word_list=['sarvjeet','ankita','arushi']\n",
    "word_selected=random.choice(word_list)\n",
    "print(word_selected)"
   ]
  },
  {
   "cell_type": "code",
   "execution_count": 327,
   "id": "eb766255",
   "metadata": {},
   "outputs": [
    {
     "name": "stdout",
     "output_type": "stream",
     "text": [
      "['_', '_', '_', '_', '_', '_']\n"
     ]
    }
   ],
   "source": [
    "def secret_word(word_selected):\n",
    "    secret_array=[]\n",
    "    for letter in range(len(word_selected)):\n",
    "        secret_array.append('_')\n",
    "    return secret_array\n",
    "\n",
    "secret_word_array=secret_word(word_selected)\n",
    "\n",
    "print(secret_word_array)"
   ]
  },
  {
   "cell_type": "code",
   "execution_count": 328,
   "id": "b17ac312",
   "metadata": {},
   "outputs": [
    {
     "name": "stdout",
     "output_type": "stream",
     "text": [
      "['a', 'r', 'u', 's', 'h', 'i']\n"
     ]
    }
   ],
   "source": [
    "def conversion_to_array(word_selected):\n",
    "    word_array=[]\n",
    "    for letter in word_selected:\n",
    "        word_array.append(letter)\n",
    "    return word_array\n",
    "word_selected_array=conversion_to_array(word_selected)\n",
    "print(word_selected_array)"
   ]
  },
  {
   "cell_type": "code",
   "execution_count": 329,
   "id": "2d337a72",
   "metadata": {},
   "outputs": [],
   "source": [
    "def user_input():\n",
    "    user_input=input('Enter your choice\\n')\n",
    "    return user_input"
   ]
  },
  {
   "cell_type": "code",
   "execution_count": 330,
   "id": "fb079af5",
   "metadata": {},
   "outputs": [],
   "source": [
    "def matched_index(word_selected_array):\n",
    "    matched_index=[]\n",
    "    for i in range(len(word_selected_array)):\n",
    "        if word_selected_array[i]==user_input():\n",
    "            matched_index.append(i)\n",
    "    return matched_index"
   ]
  },
  {
   "cell_type": "code",
   "execution_count": 331,
   "id": "6c3e2620",
   "metadata": {},
   "outputs": [
    {
     "name": "stdout",
     "output_type": "stream",
     "text": [
      "Enter your choice\n",
      "a\n",
      "Word_found !!\n",
      "enter new word !!\n",
      "Enter your choice\n",
      "k\n",
      "Enter your choice\n",
      "y\n",
      "Word not dfound\n",
      "enter again\n",
      "Enter your choice\n",
      "l\n",
      "Enter your choice\n",
      "g\n",
      "Word not dfound\n",
      "enter again\n",
      "Enter your choice\n",
      "n\n",
      "Enter your choice\n",
      "t\n",
      "Word not dfound\n",
      "enter again\n",
      "Enter your choice\n",
      "b\n",
      "Enter your choice\n",
      "f\n",
      "Word not dfound\n",
      "enter again\n",
      "Enter your choice\n",
      "f\n",
      "Enter your choice\n",
      "t\n",
      "Word not dfound\n",
      "enter again\n",
      "Enter your choice\n",
      "d\n"
     ]
    }
   ],
   "source": [
    "\n",
    "    "
   ]
  },
  {
   "cell_type": "code",
   "execution_count": null,
   "id": "3d7fbccc",
   "metadata": {},
   "outputs": [],
   "source": []
  },
  {
   "cell_type": "code",
   "execution_count": null,
   "id": "ad31fa3d",
   "metadata": {},
   "outputs": [],
   "source": []
  },
  {
   "cell_type": "code",
   "execution_count": null,
   "id": "2eab97a2",
   "metadata": {},
   "outputs": [],
   "source": []
  }
 ],
 "metadata": {
  "kernelspec": {
   "display_name": "Python 3 (ipykernel)",
   "language": "python",
   "name": "python3"
  },
  "language_info": {
   "codemirror_mode": {
    "name": "ipython",
    "version": 3
   },
   "file_extension": ".py",
   "mimetype": "text/x-python",
   "name": "python",
   "nbconvert_exporter": "python",
   "pygments_lexer": "ipython3",
   "version": "3.8.12"
  }
 },
 "nbformat": 4,
 "nbformat_minor": 5
}
