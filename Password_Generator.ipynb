{
 "cells": [
  {
   "cell_type": "markdown",
   "id": "ab02e0eb",
   "metadata": {},
   "source": [
    "#Random Passsword Generator\n",
    "#From  list of letter, numbers & symbols , we are creating a random password generator using inputs from the user"
   ]
  },
  {
   "cell_type": "code",
   "execution_count": 9,
   "id": "bbb83efe",
   "metadata": {},
   "outputs": [
    {
     "name": "stdout",
     "output_type": "stream",
     "text": [
      "Welcome to the PyPassword Generator!\n",
      "How many letters would you like in your password?\n",
      "3\n",
      "How many symbols would you like?\n",
      "4\n",
      "How many numbers would you like?\n",
      "2\n"
     ]
    }
   ],
   "source": [
    "import random\n",
    "\n",
    "letters = ['a', 'b', 'c', 'd', 'e', 'f', 'g', 'h', 'i', 'j', 'k', 'l', 'm', 'n', 'o', 'p', 'q', 'r', 's', 't', 'u', 'v', 'w', 'x', 'y', 'z', 'A', 'B', 'C', 'D', 'E', 'F', 'G', 'H', 'I', 'J', 'K', 'L', 'M', 'N', 'O', 'P', 'Q', 'R', 'S', 'T', 'U', 'V', 'W', 'X', 'Y', 'Z']\n",
    "numbers = ['0', '1', '2', '3', '4', '5', '6', '7', '8', '9']\n",
    "symbols = ['!', '#', '$', '%', '&', '(', ')', '*', '+']\n",
    "\n",
    "print(\"Welcome to the PyPassword Generator!\")\n",
    "nr_letters = int(input(\"How many letters would you like in your password?\\n\")) \n",
    "nr_symbols = int(input(f\"How many symbols would you like?\\n\"))\n",
    "nr_numbers = int(input(f\"How many numbers would you like?\\n\"))"
   ]
  },
  {
   "cell_type": "code",
   "execution_count": null,
   "id": "72cefeda",
   "metadata": {},
   "outputs": [],
   "source": []
  },
  {
   "cell_type": "code",
   "execution_count": 10,
   "id": "9a2d0e5a",
   "metadata": {},
   "outputs": [],
   "source": [
    "#generating password characters\n",
    "password=[]\n",
    "\n",
    "for char in range(1,nr_letters+1):\n",
    "    password.append(random.choice(letters))\n",
    "for sym in range(1,nr_symbols+1):\n",
    "    password.append(random.choice(symbols))\n",
    "for num in range(1,nr_numbers+1):\n",
    "    password.append(random.choice(numbers))"
   ]
  },
  {
   "cell_type": "code",
   "execution_count": 11,
   "id": "9c06c65b",
   "metadata": {},
   "outputs": [
    {
     "name": "stdout",
     "output_type": "stream",
     "text": [
      "(9Kv+A+5(\n"
     ]
    }
   ],
   "source": [
    "#reshuffling he characters in password\n",
    "password_reshuffled=''\n",
    "random.shuffle(password)\n",
    "\n",
    "for char in password:\n",
    "    password_reshuffled=password_reshuffled+char\n",
    "    \n",
    "print(password_reshuffled)\n",
    "    "
   ]
  }
 ],
 "metadata": {
  "kernelspec": {
   "display_name": "Python 3 (ipykernel)",
   "language": "python",
   "name": "python3"
  },
  "language_info": {
   "codemirror_mode": {
    "name": "ipython",
    "version": 3
   },
   "file_extension": ".py",
   "mimetype": "text/x-python",
   "name": "python",
   "nbconvert_exporter": "python",
   "pygments_lexer": "ipython3",
   "version": "3.8.12"
  }
 },
 "nbformat": 4,
 "nbformat_minor": 5
}
