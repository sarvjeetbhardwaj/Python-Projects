{
 "cells": [
  {
   "cell_type": "code",
   "execution_count": 1,
   "id": "98045bb5",
   "metadata": {},
   "outputs": [],
   "source": [
    "alphabet = ['a', 'b', 'c', 'd', 'e', 'f', 'g', 'h', 'i', 'j', 'k', 'l', 'm', 'n', 'o', 'p', 'q', 'r', 's', 't', 'u', 'v', 'w', 'x', 'y', 'z']"
   ]
  },
  {
   "cell_type": "code",
   "execution_count": 2,
   "id": "913a8be3",
   "metadata": {},
   "outputs": [],
   "source": [
    "def encrypt(text,shift):\n",
    "  encrypted_word=''\n",
    "  for letter in text:\n",
    "    index_positon=alphabet.index(letter)\n",
    "    index_positon=index_positon+shift\n",
    "    if index_positon>=25:\n",
    "      index_positon=26-index_positon\n",
    "    else:\n",
    "      index_positon=index_positon\n",
    "\n",
    "    encrypted_word=encrypted_word+alphabet[index_positon]\n",
    "\n",
    "  print(f'The encrypted word is {encrypted_word}')"
   ]
  },
  {
   "cell_type": "code",
   "execution_count": 3,
   "id": "b7fe64ea",
   "metadata": {},
   "outputs": [],
   "source": [
    "def decrypt(text,shift):\n",
    "  decrypted_word=''\n",
    "  for letter in text:\n",
    "    index_positon=alphabet.index(letter)\n",
    "    index_positon=index_positon-shift\n",
    "    decrypted_word=decrypted_word+alphabet[index_positon]\n",
    "\n",
    "  print(decrypted_word)"
   ]
  },
  {
   "cell_type": "code",
   "execution_count": 4,
   "id": "a42f8237",
   "metadata": {},
   "outputs": [
    {
     "name": "stdout",
     "output_type": "stream",
     "text": [
      "Type 'encode' to encrypt, type 'decode' to decrypt:\n",
      "encode\n",
      "Type your message:\n",
      "happy\n",
      "Type the shift number:\n",
      "2\n",
      "The encrypted word is jcrra\n"
     ]
    }
   ],
   "source": [
    "direction = input(\"Type 'encode' to encrypt, type 'decode' to decrypt:\\n\")\n",
    "if direction=='encode':\n",
    "  text = input(\"Type your message:\\n\").lower()\n",
    "  shift = int(input(\"Type the shift number:\\n\"))\n",
    "  encrypt(text=text,shift=shift)\n",
    "elif direction=='decode':\n",
    "  text = input(\"Type your message:\\n\").lower()\n",
    "  shift = int(input(\"Type the shift number:\\n\"))\n",
    "  decrypt(text,shift)\n",
    "else:\n",
    "  print('Enter a valid command')\n"
   ]
  }
 ],
 "metadata": {
  "kernelspec": {
   "display_name": "Python 3 (ipykernel)",
   "language": "python",
   "name": "python3"
  },
  "language_info": {
   "codemirror_mode": {
    "name": "ipython",
    "version": 3
   },
   "file_extension": ".py",
   "mimetype": "text/x-python",
   "name": "python",
   "nbconvert_exporter": "python",
   "pygments_lexer": "ipython3",
   "version": "3.8.12"
  }
 },
 "nbformat": 4,
 "nbformat_minor": 5
}
